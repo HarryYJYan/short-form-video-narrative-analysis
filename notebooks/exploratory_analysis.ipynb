{
  "cells": [
    {
      "cell_type": "markdown",
      "metadata": {},
      "source": [
        "# Exploratory Data Analysis: Short Form Video Narrative Perceptions\n",
        "\n",
        "This notebook contains exploratory data analysis for the short form video narrative perception experiment.\n",
        "\n",
        "## Experiment Overview\n",
        "- **Participants**: [Number] participants\n",
        "- **Videos**: 40 short form videos\n",
        "- **Design**: Each participant watched 4 randomly selected videos\n",
        "- **Measures**: Narrative perception ratings and demographic information\n"
      ]
    },
    {
      "cell_type": "code",
      "execution_count": null,
      "metadata": {},
      "outputs": [],
      "source": [
        "# Import necessary libraries\n",
        "import pandas as pd\n",
        "import numpy as np\n",
        "import matplotlib.pyplot as plt\n",
        "import seaborn as sns\n",
        "from scipy import stats\n",
        "import warnings\n",
        "warnings.filterwarnings('ignore')\n",
        "\n",
        "# Set plotting style\n",
        "plt.style.use('seaborn-v0_8')\n",
        "sns.set_palette(\"husl\")\n"
      ]
    },
    {
      "cell_type": "code",
      "execution_count": null,
      "metadata": {},
      "outputs": [],
      "source": [
        "# Load the cleaned dataset\n",
        "# TODO: Replace with actual data loading\n",
        "print(\"Loading dataset...\")\n",
        "# df = pd.read_csv('../data/cleaned_data.csv')\n",
        "print(\"Dataset loaded successfully\")\n"
      ]
    }
  ],
  "metadata": {
    "language_info": {
      "name": "python"
    }
  },
  "nbformat": 4,
  "nbformat_minor": 2
}
